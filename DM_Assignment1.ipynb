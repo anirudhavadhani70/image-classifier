{
  "cells": [
    {
      "cell_type": "code",
      "execution_count": 1,
      "metadata": {
        "colab": {
          "base_uri": "https://localhost:8080/"
        },
        "id": "BCvaH4_eC7VD",
        "outputId": "9f970ae6-8eaa-43ec-cefa-f2648a16a0b0"
      },
      "outputs": [
        {
          "output_type": "stream",
          "name": "stdout",
          "text": [
            "Collecting opendatasets\n",
            "  Downloading opendatasets-0.1.20-py3-none-any.whl (14 kB)\n",
            "Requirement already satisfied: click in /usr/local/lib/python3.7/dist-packages (from opendatasets) (7.1.2)\n",
            "Requirement already satisfied: tqdm in /usr/local/lib/python3.7/dist-packages (from opendatasets) (4.63.0)\n",
            "Requirement already satisfied: kaggle in /usr/local/lib/python3.7/dist-packages (from opendatasets) (1.5.12)\n",
            "Requirement already satisfied: python-slugify in /usr/local/lib/python3.7/dist-packages (from kaggle->opendatasets) (6.1.1)\n",
            "Requirement already satisfied: urllib3 in /usr/local/lib/python3.7/dist-packages (from kaggle->opendatasets) (1.24.3)\n",
            "Requirement already satisfied: six>=1.10 in /usr/local/lib/python3.7/dist-packages (from kaggle->opendatasets) (1.15.0)\n",
            "Requirement already satisfied: requests in /usr/local/lib/python3.7/dist-packages (from kaggle->opendatasets) (2.23.0)\n",
            "Requirement already satisfied: python-dateutil in /usr/local/lib/python3.7/dist-packages (from kaggle->opendatasets) (2.8.2)\n",
            "Requirement already satisfied: certifi in /usr/local/lib/python3.7/dist-packages (from kaggle->opendatasets) (2021.10.8)\n",
            "Requirement already satisfied: text-unidecode>=1.3 in /usr/local/lib/python3.7/dist-packages (from python-slugify->kaggle->opendatasets) (1.3)\n",
            "Requirement already satisfied: idna<3,>=2.5 in /usr/local/lib/python3.7/dist-packages (from requests->kaggle->opendatasets) (2.10)\n",
            "Requirement already satisfied: chardet<4,>=3.0.2 in /usr/local/lib/python3.7/dist-packages (from requests->kaggle->opendatasets) (3.0.4)\n",
            "Installing collected packages: opendatasets\n",
            "Successfully installed opendatasets-0.1.20\n"
          ]
        }
      ],
      "source": [
        "pip install opendatasets\n"
      ]
    },
    {
      "cell_type": "code",
      "execution_count": 2,
      "metadata": {
        "colab": {
          "base_uri": "https://localhost:8080/"
        },
        "id": "2nn0eR--DZKb",
        "outputId": "3caccfb0-cd15-4a8b-8b41-d12c281a7441"
      },
      "outputs": [
        {
          "output_type": "stream",
          "name": "stdout",
          "text": [
            "Please provide your Kaggle credentials to download this dataset. Learn more: http://bit.ly/kaggle-creds\n",
            "Your Kaggle username: anirudh2211\n",
            "Your Kaggle Key: ··········\n",
            "Downloading flowers-recognition.zip to ./flowers-recognition\n"
          ]
        },
        {
          "output_type": "stream",
          "name": "stderr",
          "text": [
            "100%|██████████| 225M/225M [00:01<00:00, 166MB/s]\n"
          ]
        },
        {
          "output_type": "stream",
          "name": "stdout",
          "text": [
            "\n"
          ]
        }
      ],
      "source": [
        "import opendatasets as od\n",
        "od.download(\"https://www.kaggle.com/alxmamaev/flowers-recognition\")\n"
      ]
    },
    {
      "cell_type": "code",
      "execution_count": 3,
      "metadata": {
        "id": "tW-psum9Ddrx"
      },
      "outputs": [],
      "source": [
        "\n",
        "import warnings\n",
        "warnings.filterwarnings('always')\n",
        "warnings.filterwarnings('ignore')\n",
        "\n",
        "# data visualisation and manipulation\n",
        "import numpy as np\n",
        "import pandas as pd\n",
        "import matplotlib.pyplot as plt\n",
        "from matplotlib import style\n",
        "import seaborn as sns\n",
        "from random import shuffle  \n",
        " \n",
        "#configure\n",
        "# sets matplotlib to inline and displays graphs below the corressponding cell.\n",
        "%matplotlib inline  \n",
        "style.use('fivethirtyeight')\n",
        "sns.set(style='whitegrid',color_codes=True)\n",
        "\n",
        "#model selection\n",
        "from sklearn.model_selection import train_test_split\n",
        "from sklearn.metrics import accuracy_score,confusion_matrix\n",
        "from sklearn.preprocessing import LabelEncoder\n",
        "\n",
        "#preprocess.\n",
        "from tensorflow.keras.preprocessing.image import ImageDataGenerator\n",
        "\n",
        "#dl libraraies\n",
        "from tensorflow.keras.models import Sequential\n",
        "from tensorflow.keras.layers import Dense\n",
        "from tensorflow.keras.optimizers import Adam\n",
        "from tensorflow.keras.utils import to_categorical\n",
        "\n",
        "# specifically for cnn\n",
        "import tensorflow as tf\n",
        "from tensorflow.keras.layers import Flatten,Activation\n",
        "from tensorflow.keras.layers import Conv2D, MaxPooling2D"
      ]
    },
    {
      "cell_type": "code",
      "execution_count": 4,
      "metadata": {
        "id": "JDkSRIECDsyo"
      },
      "outputs": [],
      "source": [
        "classnames=['daisy', 'dandelion', 'rose', 'sunflower', 'tulip']"
      ]
    },
    {
      "cell_type": "code",
      "execution_count": 5,
      "metadata": {
        "id": "6N-VCej3DxL4"
      },
      "outputs": [],
      "source": [
        "X=[]\n",
        "Z=[]\n",
        "IMG_SIZE=150\n",
        "daisy='/content/flowers-recognition/flowers/daisy'\n",
        "sunflower='/content/flowers-recognition/flowers/sunflower'\n",
        "tulip='/content/flowers-recognition/flowers/tulip'\n",
        "dandelion='/content/flowers-recognition/flowers/dandelion'\n",
        "rose='/content/flowers-recognition/flowers/rose'"
      ]
    },
    {
      "cell_type": "code",
      "execution_count": 6,
      "metadata": {
        "id": "oNfN5CY_ED35"
      },
      "outputs": [],
      "source": [
        "def assign_label(img,classname):\n",
        "    return classname"
      ]
    },
    {
      "cell_type": "code",
      "execution_count": 7,
      "metadata": {
        "id": "R9T-oYXqEM29"
      },
      "outputs": [],
      "source": [
        "def data_train(classname,DIR):\n",
        "    for img in tqdm(os.listdir(DIR)):\n",
        "        label=assign_label(img,classname)\n",
        "        path = os.path.join(DIR,img)\n",
        "        img = cv2.imread(path,cv2.IMREAD_COLOR)\n",
        "        img = cv2.resize(img, (IMG_SIZE,IMG_SIZE))\n",
        "        \n",
        "        X.append(np.array(img))\n",
        "        Z.append(str(label))"
      ]
    },
    {
      "cell_type": "code",
      "execution_count": 8,
      "metadata": {
        "id": "EIsU9rSEEPXX"
      },
      "outputs": [],
      "source": [
        "import cv2                  \n",
        "from tqdm import tqdm\n",
        "import os  "
      ]
    },
    {
      "cell_type": "code",
      "execution_count": 9,
      "metadata": {
        "colab": {
          "base_uri": "https://localhost:8080/"
        },
        "id": "Zx6iOSHzER9o",
        "outputId": "551de941-c8c1-4e4a-970e-37ef3e9239ee"
      },
      "outputs": [
        {
          "output_type": "stream",
          "name": "stderr",
          "text": [
            "100%|██████████| 764/764 [00:01<00:00, 423.48it/s]"
          ]
        },
        {
          "output_type": "stream",
          "name": "stdout",
          "text": [
            "764\n"
          ]
        },
        {
          "output_type": "stream",
          "name": "stderr",
          "text": [
            "\n"
          ]
        }
      ],
      "source": [
        "data_train('Daisy',daisy)\n",
        "print(len(X))"
      ]
    },
    {
      "cell_type": "code",
      "execution_count": 10,
      "metadata": {
        "colab": {
          "base_uri": "https://localhost:8080/"
        },
        "id": "J7Web6y2EU0_",
        "outputId": "7bc2647a-454d-41b4-db86-abe7607cd143"
      },
      "outputs": [
        {
          "output_type": "stream",
          "name": "stderr",
          "text": [
            "100%|██████████| 733/733 [00:02<00:00, 349.04it/s]"
          ]
        },
        {
          "output_type": "stream",
          "name": "stdout",
          "text": [
            "1497\n"
          ]
        },
        {
          "output_type": "stream",
          "name": "stderr",
          "text": [
            "\n"
          ]
        }
      ],
      "source": [
        "data_train('sunflower',sunflower)\n",
        "print(len(X))"
      ]
    },
    {
      "cell_type": "code",
      "execution_count": 11,
      "metadata": {
        "colab": {
          "base_uri": "https://localhost:8080/"
        },
        "id": "RRCTtAJ2NLDB",
        "outputId": "70fc9205-3426-40a8-9325-164f741f8d97"
      },
      "outputs": [
        {
          "output_type": "stream",
          "name": "stderr",
          "text": [
            "100%|██████████| 984/984 [00:02<00:00, 399.89it/s]"
          ]
        },
        {
          "output_type": "stream",
          "name": "stdout",
          "text": [
            "2481\n"
          ]
        },
        {
          "output_type": "stream",
          "name": "stderr",
          "text": [
            "\n"
          ]
        }
      ],
      "source": [
        "data_train('tulip',tulip)\n",
        "print(len(X))"
      ]
    },
    {
      "cell_type": "code",
      "execution_count": 13,
      "metadata": {
        "colab": {
          "base_uri": "https://localhost:8080/"
        },
        "id": "6iJuNapSNSL6",
        "outputId": "3ec35656-0a4f-4853-e82b-41e6d48f7d5b"
      },
      "outputs": [
        {
          "output_type": "stream",
          "name": "stderr",
          "text": [
            "100%|██████████| 1052/1052 [00:02<00:00, 408.99it/s]"
          ]
        },
        {
          "output_type": "stream",
          "name": "stdout",
          "text": [
            "3533\n"
          ]
        },
        {
          "output_type": "stream",
          "name": "stderr",
          "text": [
            "\n"
          ]
        }
      ],
      "source": [
        "data_train('Dandelion',dandelion)\n",
        "print(len(X))"
      ]
    },
    {
      "cell_type": "code",
      "execution_count": 14,
      "metadata": {
        "colab": {
          "base_uri": "https://localhost:8080/"
        },
        "id": "p54OgZj6NZ3D",
        "outputId": "60a716cd-ae86-425f-eb2e-6a09e794a9d0"
      },
      "outputs": [
        {
          "output_type": "stream",
          "name": "stderr",
          "text": [
            "100%|██████████| 784/784 [00:01<00:00, 429.95it/s]"
          ]
        },
        {
          "output_type": "stream",
          "name": "stdout",
          "text": [
            "4317\n"
          ]
        },
        {
          "output_type": "stream",
          "name": "stderr",
          "text": [
            "\n"
          ]
        }
      ],
      "source": [
        "data_train('rose',rose)\n",
        "print(len(X))"
      ]
    },
    {
      "cell_type": "code",
      "execution_count": 15,
      "metadata": {
        "id": "RNpnOKpeNePR"
      },
      "outputs": [],
      "source": [
        "def show_picture(class_names, images, labels):\n",
        "   \n",
        "    \n",
        "    index = np.random.randint(len(labels))\n",
        "    plt.figure()\n",
        "    plt.imshow(images[index])\n",
        "    plt.xticks([])\n",
        "    plt.yticks([])\n",
        "    plt.grid(True)\n",
        "    plt.title('Image #{} : '.format(index) + labels[index])\n",
        "    plt.show()"
      ]
    },
    {
      "cell_type": "code",
      "execution_count": 16,
      "metadata": {
        "colab": {
          "base_uri": "https://localhost:8080/",
          "height": 280
        },
        "id": "Rl4aDSRDNis5",
        "outputId": "9bff7d85-b8c5-4508-e424-cef5e3c4982a"
      },
      "outputs": [
        {
          "output_type": "display_data",
          "data": {
            "text/plain": [
              "<Figure size 432x288 with 1 Axes>"
            ],
            "image/png": "[encoded data removed]"
          },
          "metadata": {}
        }
      ],
      "source": [
        "show_picture(classnames, X, Z)"
      ]
    },
    {
      "cell_type": "code",
      "execution_count": 17,
      "metadata": {
        "id": "vAj-f-nLN5nE"
      },
      "outputs": [],
      "source": [
        "le=LabelEncoder()\n",
        "Y=le.fit_transform(Z)\n",
        "Y=to_categorical(Y,5)\n",
        "X=np.array(X)\n",
        "X=X/255"
      ]
    },
    {
      "cell_type": "code",
      "execution_count": 20,
      "metadata": {
        "id": "T46QAm46OAiq"
      },
      "outputs": [],
      "source": [
        "x_train,x_test,y_train,y_test=train_test_split(X,Y,test_size=0.3,random_state=42)"
      ]
    },
    {
      "cell_type": "code",
      "execution_count": 21,
      "metadata": {
        "colab": {
          "base_uri": "https://localhost:8080/"
        },
        "id": "hSFPL-xSOExj",
        "outputId": "df7d896a-4b86-4a80-89e7-2c94f977c684"
      },
      "outputs": [
        {
          "output_type": "execute_result",
          "data": {
            "text/plain": [
              "(3021, 150, 150, 3)"
            ]
          },
          "metadata": {},
          "execution_count": 21
        }
      ],
      "source": [
        "x_train.shape"
      ]
    },
    {
      "cell_type": "code",
      "execution_count": 22,
      "metadata": {
        "id": "DBgl_a3JOHjB"
      },
      "outputs": [],
      "source": [
        "np.random.seed(42)"
      ]
    },
    {
      "cell_type": "code",
      "execution_count": 23,
      "metadata": {
        "id": "fJ1wpMMHOjX-"
      },
      "outputs": [],
      "source": [
        "model = Sequential()\n",
        "model.add(Conv2D(filters = 128, kernel_size = (5,5),padding = 'Same',activation ='relu', input_shape = (150,150,3)))\n",
        "model.add(MaxPooling2D(pool_size=(2,2)))\n",
        "\n",
        "\n",
        "model.add(Conv2D(filters = 256, kernel_size = (3,3),padding = 'Same',activation ='relu'))\n",
        "model.add(MaxPooling2D(pool_size=(2,2), strides=(2,2)))\n",
        " \n",
        "\n",
        "model.add(Conv2D(filters =512, kernel_size = (3,3),padding = 'Same',activation ='relu'))\n",
        "model.add(MaxPooling2D(pool_size=(2,2), strides=(2,2)))\n",
        "\n",
        "model.add(Conv2D(filters = 512, kernel_size = (3,3),padding = 'Same',activation ='relu'))\n",
        "model.add(MaxPooling2D(pool_size=(2,2), strides=(2,2)))\n",
        "\n",
        "model.add(Flatten())\n",
        "model.add(Dense(512))\n",
        "model.add(Activation('relu'))\n",
        "model.add(Dense(5, activation = \"softmax\"))"
      ]
    },
    {
      "cell_type": "code",
      "execution_count": 32,
      "metadata": {
        "id": "WIJR60BUOodG"
      },
      "outputs": [],
      "source": [
        "batch_size=256\n",
        "epochs=60\n",
        "\n",
        "from keras.callbacks import ReduceLROnPlateau\n",
        "red_lr= ReduceLROnPlateau(monitor='val_acc',patience=3,verbose=1,factor=0.1)"
      ]
    },
    {
      "cell_type": "code",
      "execution_count": 33,
      "metadata": {
        "id": "mQb7B15lOrgG"
      },
      "outputs": [],
      "source": [
        "datagen = ImageDataGenerator(\n",
        "        featurewise_center=False,  \n",
        "        samplewise_center=False,  \n",
        "        featurewise_std_normalization=False,  \n",
        "        samplewise_std_normalization=False,  \n",
        "        zca_whitening=False,  \n",
        "        rotation_range=10,  \n",
        "        zoom_range = 0.1,  \n",
        "        width_shift_range=0.2,  \n",
        "        height_shift_range=0.2,  \n",
        "        horizontal_flip=True,  \n",
        "        vertical_flip=False)  \n",
        "\n",
        "\n",
        "datagen.fit(x_train)"
      ]
    },
    {
      "cell_type": "code",
      "execution_count": 34,
      "metadata": {
        "id": "efxWoB6YOt4V"
      },
      "outputs": [],
      "source": [
        "model.compile(optimizer=Adam(lr=0.001),loss='categorical_crossentropy',metrics=['accuracy'])"
      ]
    },
    {
      "cell_type": "code",
      "execution_count": 35,
      "metadata": {
        "colab": {
          "base_uri": "https://localhost:8080/"
        },
        "id": "cXdN6ePOOwdv",
        "outputId": "410b71ff-1596-45cf-f46d-3dc40aea8db2"
      },
      "outputs": [
        {
          "output_type": "stream",
          "name": "stdout",
          "text": [
            "Model: \"sequential\"\n",
            "_________________________________________________________________\n",
            " Layer (type)                Output Shape              Param #   \n",
            "=================================================================\n",
            " conv2d (Conv2D)             (None, 150, 150, 128)     9728      \n",
            "                                                                 \n",
            " max_pooling2d (MaxPooling2D  (None, 75, 75, 128)      0         \n",
            " )                                                               \n",
            "                                                                 \n",
            " conv2d_1 (Conv2D)           (None, 75, 75, 256)       295168    \n",
            "                                                                 \n",
            " max_pooling2d_1 (MaxPooling  (None, 37, 37, 256)      0         \n",
            " 2D)                                                             \n",
            "                                                                 \n",
            " conv2d_2 (Conv2D)           (None, 37, 37, 512)       1180160   \n",
            "                                                                 \n",
            " max_pooling2d_2 (MaxPooling  (None, 18, 18, 512)      0         \n",
            " 2D)                                                             \n",
            "                                                                 \n",
            " conv2d_3 (Conv2D)           (None, 18, 18, 512)       2359808   \n",
            "                                                                 \n",
            " max_pooling2d_3 (MaxPooling  (None, 9, 9, 512)        0         \n",
            " 2D)                                                             \n",
            "                                                                 \n",
            " flatten (Flatten)           (None, 41472)             0         \n",
            "                                                                 \n",
            " dense (Dense)               (None, 512)               21234176  \n",
            "                                                                 \n",
            " activation (Activation)     (None, 512)               0         \n",
            "                                                                 \n",
            " dense_1 (Dense)             (None, 5)                 2565      \n",
            "                                                                 \n",
            "=================================================================\n",
            "Total params: 25,081,605\n",
            "Trainable params: 25,081,605\n",
            "Non-trainable params: 0\n",
            "_________________________________________________________________\n"
          ]
        }
      ],
      "source": [
        "model.summary()"
      ]
    },
    {
      "cell_type": "code",
      "execution_count": 37,
      "metadata": {
        "colab": {
          "base_uri": "https://localhost:8080/"
        },
        "id": "kRi4thnuO0qQ",
        "outputId": "975305df-81f6-481b-90dc-c032b4adc881"
      },
      "outputs": [
        {
          "output_type": "stream",
          "name": "stdout",
          "text": [
            "Epoch 1/60\n",
            "11/11 [==============================] - 16s 1s/step - loss: 0.1644 - accuracy: 0.9410 - val_loss: 0.8196 - val_accuracy: 0.8009\n",
            "Epoch 2/60\n",
            "11/11 [==============================] - 16s 1s/step - loss: 0.1707 - accuracy: 0.9353 - val_loss: 0.8439 - val_accuracy: 0.7847\n",
            "Epoch 3/60\n",
            "11/11 [==============================] - 16s 1s/step - loss: 0.1770 - accuracy: 0.9342 - val_loss: 0.8095 - val_accuracy: 0.8009\n",
            "Epoch 4/60\n",
            "11/11 [==============================] - 16s 1s/step - loss: 0.1524 - accuracy: 0.9450 - val_loss: 0.7935 - val_accuracy: 0.8056\n",
            "Epoch 5/60\n",
            "11/11 [==============================] - 15s 1s/step - loss: 0.1136 - accuracy: 0.9613 - val_loss: 0.8285 - val_accuracy: 0.8094\n",
            "Epoch 6/60\n",
            "11/11 [==============================] - 16s 1s/step - loss: 0.1431 - accuracy: 0.9479 - val_loss: 0.8683 - val_accuracy: 0.8133\n",
            "Epoch 7/60\n",
            "11/11 [==============================] - 16s 1s/step - loss: 0.1434 - accuracy: 0.9501 - val_loss: 0.8685 - val_accuracy: 0.7932\n",
            "Epoch 8/60\n",
            "11/11 [==============================] - 16s 1s/step - loss: 0.1315 - accuracy: 0.9538 - val_loss: 0.8669 - val_accuracy: 0.8063\n",
            "Epoch 9/60\n",
            "11/11 [==============================] - 16s 1s/step - loss: 0.1291 - accuracy: 0.9492 - val_loss: 0.8927 - val_accuracy: 0.8048\n",
            "Epoch 10/60\n",
            "11/11 [==============================] - 16s 1s/step - loss: 0.1281 - accuracy: 0.9559 - val_loss: 0.8797 - val_accuracy: 0.8056\n",
            "Epoch 11/60\n",
            "11/11 [==============================] - 16s 1s/step - loss: 0.1225 - accuracy: 0.9580 - val_loss: 0.8742 - val_accuracy: 0.8171\n",
            "Epoch 12/60\n",
            "11/11 [==============================] - 16s 1s/step - loss: 0.1172 - accuracy: 0.9577 - val_loss: 0.8886 - val_accuracy: 0.8002\n",
            "Epoch 13/60\n",
            "11/11 [==============================] - 16s 1s/step - loss: 0.0998 - accuracy: 0.9638 - val_loss: 0.9420 - val_accuracy: 0.7878\n",
            "Epoch 14/60\n",
            "11/11 [==============================] - 16s 1s/step - loss: 0.0895 - accuracy: 0.9678 - val_loss: 0.9602 - val_accuracy: 0.8194\n",
            "Epoch 15/60\n",
            "11/11 [==============================] - 15s 1s/step - loss: 0.1128 - accuracy: 0.9566 - val_loss: 0.8921 - val_accuracy: 0.8086\n",
            "Epoch 16/60\n",
            "11/11 [==============================] - 16s 1s/step - loss: 0.1300 - accuracy: 0.9573 - val_loss: 0.9274 - val_accuracy: 0.8079\n",
            "Epoch 17/60\n",
            "11/11 [==============================] - 16s 1s/step - loss: 0.1154 - accuracy: 0.9602 - val_loss: 0.8815 - val_accuracy: 0.8179\n",
            "Epoch 18/60\n",
            "11/11 [==============================] - 16s 1s/step - loss: 0.1133 - accuracy: 0.9617 - val_loss: 0.9807 - val_accuracy: 0.7770\n",
            "Epoch 19/60\n",
            "11/11 [==============================] - 16s 1s/step - loss: 0.1281 - accuracy: 0.9494 - val_loss: 0.9423 - val_accuracy: 0.7963\n",
            "Epoch 20/60\n",
            "11/11 [==============================] - 16s 1s/step - loss: 0.1085 - accuracy: 0.9646 - val_loss: 0.9529 - val_accuracy: 0.8040\n",
            "Epoch 21/60\n",
            "11/11 [==============================] - 15s 1s/step - loss: 0.1011 - accuracy: 0.9660 - val_loss: 0.9281 - val_accuracy: 0.8048\n",
            "Epoch 22/60\n",
            "11/11 [==============================] - 16s 1s/step - loss: 0.0942 - accuracy: 0.9682 - val_loss: 0.9608 - val_accuracy: 0.7932\n",
            "Epoch 23/60\n",
            "11/11 [==============================] - 16s 1s/step - loss: 0.0951 - accuracy: 0.9649 - val_loss: 0.9823 - val_accuracy: 0.8156\n",
            "Epoch 24/60\n",
            "11/11 [==============================] - 16s 1s/step - loss: 0.0966 - accuracy: 0.9656 - val_loss: 0.9568 - val_accuracy: 0.8102\n",
            "Epoch 25/60\n",
            "11/11 [==============================] - 15s 1s/step - loss: 0.1128 - accuracy: 0.9599 - val_loss: 0.8638 - val_accuracy: 0.8117\n",
            "Epoch 26/60\n",
            "11/11 [==============================] - 16s 1s/step - loss: 0.0967 - accuracy: 0.9649 - val_loss: 0.9842 - val_accuracy: 0.8056\n",
            "Epoch 27/60\n",
            "11/11 [==============================] - 15s 1s/step - loss: 0.0804 - accuracy: 0.9729 - val_loss: 0.9111 - val_accuracy: 0.8133\n",
            "Epoch 28/60\n",
            "11/11 [==============================] - 16s 1s/step - loss: 0.0854 - accuracy: 0.9711 - val_loss: 0.9724 - val_accuracy: 0.7994\n",
            "Epoch 29/60\n",
            "11/11 [==============================] - 16s 1s/step - loss: 0.0789 - accuracy: 0.9741 - val_loss: 0.9350 - val_accuracy: 0.8179\n",
            "Epoch 30/60\n",
            "11/11 [==============================] - 16s 1s/step - loss: 0.0908 - accuracy: 0.9702 - val_loss: 0.9334 - val_accuracy: 0.8002\n",
            "Epoch 31/60\n",
            "11/11 [==============================] - 16s 1s/step - loss: 0.0791 - accuracy: 0.9711 - val_loss: 0.9936 - val_accuracy: 0.8002\n",
            "Epoch 32/60\n",
            "11/11 [==============================] - 16s 1s/step - loss: 0.0691 - accuracy: 0.9754 - val_loss: 0.9341 - val_accuracy: 0.8218\n",
            "Epoch 33/60\n",
            "11/11 [==============================] - 16s 1s/step - loss: 0.0692 - accuracy: 0.9776 - val_loss: 1.0291 - val_accuracy: 0.8017\n",
            "Epoch 34/60\n",
            "11/11 [==============================] - 16s 1s/step - loss: 0.0702 - accuracy: 0.9783 - val_loss: 1.0680 - val_accuracy: 0.8125\n",
            "Epoch 35/60\n",
            "11/11 [==============================] - 16s 1s/step - loss: 0.0862 - accuracy: 0.9711 - val_loss: 1.0112 - val_accuracy: 0.8079\n",
            "Epoch 36/60\n",
            "11/11 [==============================] - 15s 1s/step - loss: 0.0974 - accuracy: 0.9660 - val_loss: 1.0283 - val_accuracy: 0.8079\n",
            "Epoch 37/60\n",
            "11/11 [==============================] - 15s 1s/step - loss: 0.0882 - accuracy: 0.9711 - val_loss: 0.9294 - val_accuracy: 0.8187\n",
            "Epoch 38/60\n",
            "11/11 [==============================] - 16s 1s/step - loss: 0.0753 - accuracy: 0.9740 - val_loss: 1.0077 - val_accuracy: 0.8048\n",
            "Epoch 39/60\n",
            "11/11 [==============================] - 16s 1s/step - loss: 0.0639 - accuracy: 0.9808 - val_loss: 0.9632 - val_accuracy: 0.8133\n",
            "Epoch 40/60\n",
            "11/11 [==============================] - 16s 1s/step - loss: 0.0603 - accuracy: 0.9798 - val_loss: 1.0748 - val_accuracy: 0.8040\n",
            "Epoch 41/60\n",
            "11/11 [==============================] - 16s 1s/step - loss: 0.0581 - accuracy: 0.9805 - val_loss: 0.9770 - val_accuracy: 0.8110\n",
            "Epoch 42/60\n",
            "11/11 [==============================] - 15s 1s/step - loss: 0.0724 - accuracy: 0.9736 - val_loss: 0.9533 - val_accuracy: 0.8117\n",
            "Epoch 43/60\n",
            "11/11 [==============================] - 16s 1s/step - loss: 0.0921 - accuracy: 0.9693 - val_loss: 1.1056 - val_accuracy: 0.8009\n",
            "Epoch 44/60\n",
            "11/11 [==============================] - 16s 1s/step - loss: 0.1103 - accuracy: 0.9675 - val_loss: 0.9984 - val_accuracy: 0.7978\n",
            "Epoch 45/60\n",
            "11/11 [==============================] - 16s 1s/step - loss: 0.0822 - accuracy: 0.9703 - val_loss: 0.9742 - val_accuracy: 0.8040\n",
            "Epoch 46/60\n",
            "11/11 [==============================] - 15s 1s/step - loss: 0.0984 - accuracy: 0.9656 - val_loss: 1.0044 - val_accuracy: 0.8071\n",
            "Epoch 47/60\n",
            "11/11 [==============================] - 15s 1s/step - loss: 0.1024 - accuracy: 0.9667 - val_loss: 0.8848 - val_accuracy: 0.8048\n",
            "Epoch 48/60\n",
            "11/11 [==============================] - 16s 1s/step - loss: 0.0832 - accuracy: 0.9776 - val_loss: 0.9621 - val_accuracy: 0.8148\n",
            "Epoch 49/60\n",
            "11/11 [==============================] - 16s 1s/step - loss: 0.0838 - accuracy: 0.9693 - val_loss: 0.9570 - val_accuracy: 0.8063\n",
            "Epoch 50/60\n",
            "11/11 [==============================] - 16s 1s/step - loss: 0.0706 - accuracy: 0.9769 - val_loss: 1.0509 - val_accuracy: 0.8133\n",
            "Epoch 51/60\n",
            "11/11 [==============================] - 16s 1s/step - loss: 0.0597 - accuracy: 0.9787 - val_loss: 1.0201 - val_accuracy: 0.8133\n",
            "Epoch 52/60\n",
            "11/11 [==============================] - 16s 1s/step - loss: 0.0485 - accuracy: 0.9848 - val_loss: 0.9882 - val_accuracy: 0.8102\n",
            "Epoch 53/60\n",
            "11/11 [==============================] - 16s 1s/step - loss: 0.0614 - accuracy: 0.9772 - val_loss: 1.1638 - val_accuracy: 0.8040\n",
            "Epoch 54/60\n",
            "11/11 [==============================] - 16s 1s/step - loss: 0.0752 - accuracy: 0.9743 - val_loss: 1.0290 - val_accuracy: 0.8148\n",
            "Epoch 55/60\n",
            "11/11 [==============================] - 16s 1s/step - loss: 0.0759 - accuracy: 0.9703 - val_loss: 1.2163 - val_accuracy: 0.7940\n",
            "Epoch 56/60\n",
            "11/11 [==============================] - 16s 1s/step - loss: 0.0768 - accuracy: 0.9698 - val_loss: 0.9751 - val_accuracy: 0.8133\n",
            "Epoch 57/60\n",
            "11/11 [==============================] - 16s 1s/step - loss: 0.0608 - accuracy: 0.9776 - val_loss: 1.0347 - val_accuracy: 0.8071\n",
            "Epoch 58/60\n",
            "11/11 [==============================] - 16s 1s/step - loss: 0.0585 - accuracy: 0.9805 - val_loss: 1.1375 - val_accuracy: 0.8056\n",
            "Epoch 59/60\n",
            "11/11 [==============================] - 16s 1s/step - loss: 0.0681 - accuracy: 0.9732 - val_loss: 1.1454 - val_accuracy: 0.7963\n",
            "Epoch 60/60\n",
            "11/11 [==============================] - 16s 1s/step - loss: 0.0943 - accuracy: 0.9693 - val_loss: 1.0906 - val_accuracy: 0.8002\n"
          ]
        }
      ],
      "source": [
        "\n",
        "\n",
        "\n",
        "\n",
        "\n",
        "History = model.fit_generator(datagen.flow(x_train,y_train, batch_size=batch_size),\n",
        "                              epochs = epochs, validation_data = (x_test,y_test),\n",
        "                              verbose = 1, steps_per_epoch=x_train.shape[0] // batch_size)"
      ]
    },
    {
      "cell_type": "markdown",
      "source": [
        ""
      ],
      "metadata": {
        "id": "CBZfbE7mjk1N"
      }
    },
    {
      "cell_type": "code",
      "execution_count": 38,
      "metadata": {
        "id": "Esa9N4AuO9A7"
      },
      "outputs": [],
      "source": [
        "pred=model.predict(x_test)\n",
        "pred_digits=np.argmax(pred,axis=1)"
      ]
    },
    {
      "cell_type": "code",
      "execution_count": 39,
      "metadata": {
        "id": "ZBDzmDEhWCK7"
      },
      "outputs": [],
      "source": [
        "test_digits = np.argmax(y_test,axis=1)"
      ]
    },
    {
      "cell_type": "code",
      "execution_count": 40,
      "metadata": {
        "colab": {
          "base_uri": "https://localhost:8080/"
        },
        "id": "nN537-3LWEZh",
        "outputId": "38565d40-161a-44d9-86f8-5c765b0b8e8d"
      },
      "outputs": [
        {
          "output_type": "stream",
          "name": "stdout",
          "text": [
            "Accuracy : 80.01543209876543\n"
          ]
        }
      ],
      "source": [
        "print(\"Accuracy : {}\".format(accuracy_score(test_digits, pred_digits)*100))"
      ]
    },
    {
      "cell_type": "code",
      "execution_count": 48,
      "metadata": {
        "id": "rigse7owWPCG",
        "colab": {
          "base_uri": "https://localhost:8080/"
        },
        "outputId": "cda03f86-14d6-41d1-a9c3-0daedf0f7112"
      },
      "outputs": [
        {
          "output_type": "stream",
          "name": "stdout",
          "text": [
            "Mounted at /content/drive/\n"
          ]
        }
      ],
      "source": [
        "from google.colab import drive\n",
        "drive.mount('/content/drive/')"
      ]
    },
    {
      "cell_type": "code",
      "source": [
        "model.save('/content/drive/MyDrive/flowers/model/newmodel.h5')"
      ],
      "metadata": {
        "id": "EL9RFa75sn6C"
      },
      "execution_count": 51,
      "outputs": []
    },
    {
      "cell_type": "code",
      "source": [
        "from tensorflow import keras\n",
        "newmodel = tf.keras.models.load_model('/content/drive/MyDrive/flowers/model/newmodel.h5')\n",
        "newmodel.summary()"
      ],
      "metadata": {
        "colab": {
          "base_uri": "https://localhost:8080/"
        },
        "id": "1YDTPx-avDWv",
        "outputId": "e1cf9052-7fd0-435c-945c-44f578be5a85"
      },
      "execution_count": 54,
      "outputs": [
        {
          "output_type": "stream",
          "name": "stdout",
          "text": [
            "Model: \"sequential\"\n",
            "_________________________________________________________________\n",
            " Layer (type)                Output Shape              Param #   \n",
            "=================================================================\n",
            " conv2d (Conv2D)             (None, 150, 150, 128)     9728      \n",
            "                                                                 \n",
            " max_pooling2d (MaxPooling2D  (None, 75, 75, 128)      0         \n",
            " )                                                               \n",
            "                                                                 \n",
            " conv2d_1 (Conv2D)           (None, 75, 75, 256)       295168    \n",
            "                                                                 \n",
            " max_pooling2d_1 (MaxPooling  (None, 37, 37, 256)      0         \n",
            " 2D)                                                             \n",
            "                                                                 \n",
            " conv2d_2 (Conv2D)           (None, 37, 37, 512)       1180160   \n",
            "                                                                 \n",
            " max_pooling2d_2 (MaxPooling  (None, 18, 18, 512)      0         \n",
            " 2D)                                                             \n",
            "                                                                 \n",
            " conv2d_3 (Conv2D)           (None, 18, 18, 512)       2359808   \n",
            "                                                                 \n",
            " max_pooling2d_3 (MaxPooling  (None, 9, 9, 512)        0         \n",
            " 2D)                                                             \n",
            "                                                                 \n",
            " flatten (Flatten)           (None, 41472)             0         \n",
            "                                                                 \n",
            " dense (Dense)               (None, 512)               21234176  \n",
            "                                                                 \n",
            " activation (Activation)     (None, 512)               0         \n",
            "                                                                 \n",
            " dense_1 (Dense)             (None, 5)                 2565      \n",
            "                                                                 \n",
            "=================================================================\n",
            "Total params: 25,081,605\n",
            "Trainable params: 25,081,605\n",
            "Non-trainable params: 0\n",
            "_________________________________________________________________\n"
          ]
        }
      ]
    },
    {
      "cell_type": "code",
      "source": [
        "newmodel.fit(x_train,y_train,epochs=epochs,batch_size=batch_size,validation_data = (x_test,y_test))"
      ],
      "metadata": {
        "colab": {
          "base_uri": "https://localhost:8080/"
        },
        "id": "cHfJcuCsv92u",
        "outputId": "c608b450-af0f-4589-bd79-f22a6df7c55e"
      },
      "execution_count": 55,
      "outputs": [
        {
          "output_type": "stream",
          "name": "stdout",
          "text": [
            "Epoch 1/60\n",
            "12/12 [==============================] - 9s 759ms/step - loss: 0.0363 - accuracy: 0.9881 - val_loss: 1.0377 - val_accuracy: 0.8194\n",
            "Epoch 2/60\n",
            "12/12 [==============================] - 9s 721ms/step - loss: 0.0139 - accuracy: 0.9960 - val_loss: 1.0507 - val_accuracy: 0.8148\n",
            "Epoch 3/60\n",
            "12/12 [==============================] - 9s 721ms/step - loss: 0.0091 - accuracy: 0.9974 - val_loss: 1.1022 - val_accuracy: 0.8117\n",
            "Epoch 4/60\n",
            "12/12 [==============================] - 9s 723ms/step - loss: 0.0099 - accuracy: 0.9977 - val_loss: 1.0832 - val_accuracy: 0.8241\n",
            "Epoch 5/60\n",
            "12/12 [==============================] - 9s 725ms/step - loss: 0.0053 - accuracy: 0.9977 - val_loss: 1.0860 - val_accuracy: 0.8210\n",
            "Epoch 6/60\n",
            "12/12 [==============================] - 9s 722ms/step - loss: 0.0053 - accuracy: 0.9980 - val_loss: 1.1129 - val_accuracy: 0.8156\n",
            "Epoch 7/60\n",
            "12/12 [==============================] - 9s 720ms/step - loss: 0.0048 - accuracy: 0.9983 - val_loss: 1.1053 - val_accuracy: 0.8171\n",
            "Epoch 8/60\n",
            "12/12 [==============================] - 9s 720ms/step - loss: 0.0040 - accuracy: 0.9980 - val_loss: 1.0832 - val_accuracy: 0.8233\n",
            "Epoch 9/60\n",
            "12/12 [==============================] - 9s 720ms/step - loss: 0.0054 - accuracy: 0.9983 - val_loss: 1.0879 - val_accuracy: 0.8241\n",
            "Epoch 10/60\n",
            "12/12 [==============================] - 9s 722ms/step - loss: 0.0044 - accuracy: 0.9980 - val_loss: 1.1087 - val_accuracy: 0.8187\n",
            "Epoch 11/60\n",
            "12/12 [==============================] - 9s 725ms/step - loss: 0.0035 - accuracy: 0.9983 - val_loss: 1.1005 - val_accuracy: 0.8187\n",
            "Epoch 12/60\n",
            "12/12 [==============================] - 9s 719ms/step - loss: 0.0048 - accuracy: 0.9983 - val_loss: 1.1097 - val_accuracy: 0.8295\n",
            "Epoch 13/60\n",
            "12/12 [==============================] - 9s 720ms/step - loss: 0.0044 - accuracy: 0.9980 - val_loss: 1.1043 - val_accuracy: 0.8256\n",
            "Epoch 14/60\n",
            "12/12 [==============================] - 9s 718ms/step - loss: 0.0039 - accuracy: 0.9980 - val_loss: 1.1065 - val_accuracy: 0.8210\n",
            "Epoch 15/60\n",
            "12/12 [==============================] - 9s 721ms/step - loss: 0.0045 - accuracy: 0.9977 - val_loss: 1.1139 - val_accuracy: 0.8310\n",
            "Epoch 16/60\n",
            "12/12 [==============================] - 9s 721ms/step - loss: 0.0033 - accuracy: 0.9980 - val_loss: 1.1208 - val_accuracy: 0.8194\n",
            "Epoch 17/60\n",
            "12/12 [==============================] - 9s 721ms/step - loss: 0.0036 - accuracy: 0.9977 - val_loss: 1.1141 - val_accuracy: 0.8264\n",
            "Epoch 18/60\n",
            "12/12 [==============================] - 9s 722ms/step - loss: 0.0033 - accuracy: 0.9987 - val_loss: 1.1221 - val_accuracy: 0.8202\n",
            "Epoch 19/60\n",
            "12/12 [==============================] - 9s 720ms/step - loss: 0.0026 - accuracy: 0.9980 - val_loss: 1.1185 - val_accuracy: 0.8248\n",
            "Epoch 20/60\n",
            "12/12 [==============================] - 9s 722ms/step - loss: 0.0036 - accuracy: 0.9983 - val_loss: 1.1245 - val_accuracy: 0.8233\n",
            "Epoch 21/60\n",
            "12/12 [==============================] - 9s 718ms/step - loss: 0.0042 - accuracy: 0.9983 - val_loss: 1.1517 - val_accuracy: 0.8194\n",
            "Epoch 22/60\n",
            "12/12 [==============================] - 9s 720ms/step - loss: 0.0029 - accuracy: 0.9987 - val_loss: 1.1399 - val_accuracy: 0.8233\n",
            "Epoch 23/60\n",
            "12/12 [==============================] - 9s 723ms/step - loss: 0.0044 - accuracy: 0.9977 - val_loss: 1.1264 - val_accuracy: 0.8264\n",
            "Epoch 24/60\n",
            "12/12 [==============================] - 9s 721ms/step - loss: 0.0034 - accuracy: 0.9980 - val_loss: 1.1519 - val_accuracy: 0.8187\n",
            "Epoch 25/60\n",
            "12/12 [==============================] - 9s 721ms/step - loss: 0.0050 - accuracy: 0.9983 - val_loss: 1.1428 - val_accuracy: 0.8241\n",
            "Epoch 26/60\n",
            "12/12 [==============================] - 9s 721ms/step - loss: 0.0022 - accuracy: 0.9987 - val_loss: 1.1302 - val_accuracy: 0.8272\n",
            "Epoch 27/60\n",
            "12/12 [==============================] - 9s 722ms/step - loss: 0.0035 - accuracy: 0.9983 - val_loss: 1.1281 - val_accuracy: 0.8248\n",
            "Epoch 28/60\n",
            "12/12 [==============================] - 9s 722ms/step - loss: 0.0035 - accuracy: 0.9987 - val_loss: 1.1292 - val_accuracy: 0.8210\n",
            "Epoch 29/60\n",
            "12/12 [==============================] - 9s 717ms/step - loss: 0.0037 - accuracy: 0.9987 - val_loss: 1.1409 - val_accuracy: 0.8202\n",
            "Epoch 30/60\n",
            "12/12 [==============================] - 9s 722ms/step - loss: 0.0037 - accuracy: 0.9977 - val_loss: 1.1377 - val_accuracy: 0.8248\n",
            "Epoch 31/60\n",
            "12/12 [==============================] - 9s 719ms/step - loss: 0.0027 - accuracy: 0.9977 - val_loss: 1.1354 - val_accuracy: 0.8248\n",
            "Epoch 32/60\n",
            "12/12 [==============================] - 9s 721ms/step - loss: 0.0043 - accuracy: 0.9977 - val_loss: 1.1403 - val_accuracy: 0.8194\n",
            "Epoch 33/60\n",
            "12/12 [==============================] - 9s 721ms/step - loss: 0.0024 - accuracy: 0.9980 - val_loss: 1.1365 - val_accuracy: 0.8256\n",
            "Epoch 34/60\n",
            "12/12 [==============================] - 9s 724ms/step - loss: 0.0027 - accuracy: 0.9980 - val_loss: 1.1407 - val_accuracy: 0.8241\n",
            "Epoch 35/60\n",
            "12/12 [==============================] - 9s 725ms/step - loss: 0.0025 - accuracy: 0.9983 - val_loss: 1.1473 - val_accuracy: 0.8218\n",
            "Epoch 36/60\n",
            "12/12 [==============================] - 9s 718ms/step - loss: 0.0028 - accuracy: 0.9980 - val_loss: 1.1532 - val_accuracy: 0.8210\n",
            "Epoch 37/60\n",
            "12/12 [==============================] - 9s 721ms/step - loss: 0.0028 - accuracy: 0.9983 - val_loss: 1.1525 - val_accuracy: 0.8233\n",
            "Epoch 38/60\n",
            "12/12 [==============================] - 9s 723ms/step - loss: 0.0032 - accuracy: 0.9987 - val_loss: 1.1569 - val_accuracy: 0.8225\n",
            "Epoch 39/60\n",
            "12/12 [==============================] - 9s 722ms/step - loss: 0.0040 - accuracy: 0.9980 - val_loss: 1.1531 - val_accuracy: 0.8272\n",
            "Epoch 40/60\n",
            "12/12 [==============================] - 9s 721ms/step - loss: 0.0033 - accuracy: 0.9980 - val_loss: 1.1544 - val_accuracy: 0.8171\n",
            "Epoch 41/60\n",
            "12/12 [==============================] - 9s 721ms/step - loss: 0.0032 - accuracy: 0.9980 - val_loss: 1.1564 - val_accuracy: 0.8225\n",
            "Epoch 42/60\n",
            "12/12 [==============================] - 9s 721ms/step - loss: 0.0034 - accuracy: 0.9980 - val_loss: 1.1540 - val_accuracy: 0.8241\n",
            "Epoch 43/60\n",
            "12/12 [==============================] - 9s 721ms/step - loss: 0.0027 - accuracy: 0.9980 - val_loss: 1.1464 - val_accuracy: 0.8194\n",
            "Epoch 44/60\n",
            "12/12 [==============================] - 9s 723ms/step - loss: 0.0030 - accuracy: 0.9983 - val_loss: 1.1542 - val_accuracy: 0.8218\n",
            "Epoch 45/60\n",
            "12/12 [==============================] - 9s 723ms/step - loss: 0.0028 - accuracy: 0.9980 - val_loss: 1.1719 - val_accuracy: 0.8241\n",
            "Epoch 46/60\n",
            "12/12 [==============================] - 9s 722ms/step - loss: 0.0037 - accuracy: 0.9983 - val_loss: 1.1523 - val_accuracy: 0.8218\n",
            "Epoch 47/60\n",
            "12/12 [==============================] - 9s 721ms/step - loss: 0.0026 - accuracy: 0.9987 - val_loss: 1.1626 - val_accuracy: 0.8194\n",
            "Epoch 48/60\n",
            "12/12 [==============================] - 9s 718ms/step - loss: 0.0028 - accuracy: 0.9987 - val_loss: 1.1623 - val_accuracy: 0.8202\n",
            "Epoch 49/60\n",
            "12/12 [==============================] - 9s 725ms/step - loss: 0.0025 - accuracy: 0.9977 - val_loss: 1.1603 - val_accuracy: 0.8256\n",
            "Epoch 50/60\n",
            "12/12 [==============================] - 9s 719ms/step - loss: 0.0028 - accuracy: 0.9983 - val_loss: 1.1703 - val_accuracy: 0.8233\n",
            "Epoch 51/60\n",
            "12/12 [==============================] - 9s 721ms/step - loss: 0.0023 - accuracy: 0.9987 - val_loss: 1.1600 - val_accuracy: 0.8233\n",
            "Epoch 52/60\n",
            "12/12 [==============================] - 9s 719ms/step - loss: 0.0033 - accuracy: 0.9980 - val_loss: 1.1610 - val_accuracy: 0.8179\n",
            "Epoch 53/60\n",
            "12/12 [==============================] - 9s 721ms/step - loss: 0.0034 - accuracy: 0.9980 - val_loss: 1.1716 - val_accuracy: 0.8248\n",
            "Epoch 54/60\n",
            "12/12 [==============================] - 9s 721ms/step - loss: 0.0036 - accuracy: 0.9983 - val_loss: 1.1590 - val_accuracy: 0.8272\n",
            "Epoch 55/60\n",
            "12/12 [==============================] - 9s 719ms/step - loss: 0.0023 - accuracy: 0.9980 - val_loss: 1.1614 - val_accuracy: 0.8279\n",
            "Epoch 56/60\n",
            "12/12 [==============================] - 9s 720ms/step - loss: 0.0033 - accuracy: 0.9983 - val_loss: 1.1620 - val_accuracy: 0.8194\n",
            "Epoch 57/60\n",
            "12/12 [==============================] - 9s 722ms/step - loss: 0.0029 - accuracy: 0.9983 - val_loss: 1.1610 - val_accuracy: 0.8218\n",
            "Epoch 58/60\n",
            "12/12 [==============================] - 9s 722ms/step - loss: 0.0027 - accuracy: 0.9983 - val_loss: 1.1615 - val_accuracy: 0.8210\n",
            "Epoch 59/60\n",
            "12/12 [==============================] - 9s 718ms/step - loss: 0.0028 - accuracy: 0.9977 - val_loss: 1.1637 - val_accuracy: 0.8264\n",
            "Epoch 60/60\n",
            "12/12 [==============================] - 9s 718ms/step - loss: 0.0024 - accuracy: 0.9980 - val_loss: 1.1608 - val_accuracy: 0.8256\n"
          ]
        },
        {
          "output_type": "execute_result",
          "data": {
            "text/plain": [
              "<keras.callbacks.History at 0x7fbfa3e7d910>"
            ]
          },
          "metadata": {},
          "execution_count": 55
        }
      ]
    },
    {
      "cell_type": "code",
      "source": [
        "model.save('/content/drive/MyDrive/flowers/model/newmodel1.h5')\n"
      ],
      "metadata": {
        "id": "9fJXBUaEwi2u"
      },
      "execution_count": 67,
      "outputs": []
    },
    {
      "cell_type": "code",
      "source": [
        "from tensorflow import keras\n",
        "newmodel = tf.keras.models.load_model('/content/drive/MyDrive/flowers/model/newmodel.h5')"
      ],
      "metadata": {
        "id": "DJTiPILD0A_i"
      },
      "execution_count": 69,
      "outputs": []
    },
    {
      "cell_type": "code",
      "source": [
        "acc = newmodel.evaluate(x_train,  y_train, verbose=2)\n",
        "# print(type(acc))\n",
        "#print('accuracy',acc)\n",
        "print('accuracy - {}'.format(acc[-1]*100))"
      ],
      "metadata": {
        "colab": {
          "base_uri": "https://localhost:8080/"
        },
        "id": "AoGBykOQ1kLR",
        "outputId": "6786ab28-52cc-4a4e-a205-606e359f5edd"
      },
      "execution_count": 78,
      "outputs": [
        {
          "output_type": "stream",
          "name": "stdout",
          "text": [
            "95/95 - 3s - loss: 0.0353 - accuracy: 0.9884 - 3s/epoch - 29ms/step\n",
            "accuracy - 98.84144067764282\n"
          ]
        }
      ]
    },
    {
      "cell_type": "markdown",
      "source": [
        "References:\n",
        "https://www.kaggle.com/code/almahmudalmamun/flower-recognition \n",
        "\n",
        "https://www.tensorflow.org/api_docs/python/tf/keras/preprocessing/image/ImageDataGenerator \n",
        "\n",
        "https://www.tensorflow.org/tutorials/images/cnn \n",
        "\n",
        "https://keras.io/api/models/model_training_apis/ \n",
        "\n",
        "https://learnopencv.com/read-display-and-write-an-image-using-opencv/ "
      ],
      "metadata": {
        "id": "LXDzRMRo8laq"
      }
    },
    {
      "cell_type": "markdown",
      "source": [
        ""
      ],
      "metadata": {
        "id": "YGfWxhAk8nvB"
      }
    },
    {
      "cell_type": "code",
      "source": [
        ""
      ],
      "metadata": {
        "id": "W49xXnZj85mn"
      },
      "execution_count": null,
      "outputs": []
    }
  ],
  "metadata": {
    "accelerator": "GPU",
    "colab": {
      "collapsed_sections": [],
      "machine_shape": "hm",
      "name": "DM_Assignment1.ipynb",
      "provenance": []
    },
    "kernelspec": {
      "display_name": "Python 3 (ipykernel)",
      "language": "python",
      "name": "python3"
    },
    "language_info": {
      "codemirror_mode": {
        "name": "ipython",
        "version": 3
      },
      "file_extension": ".py",
      "mimetype": "text/x-python",
      "name": "python",
      "nbconvert_exporter": "python",
      "pygments_lexer": "ipython3",
      "version": "3.9.7"
    }
  },
  "nbformat": 4,
  "nbformat_minor": 0
}